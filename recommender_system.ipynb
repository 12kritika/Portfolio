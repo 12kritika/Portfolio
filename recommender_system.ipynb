{
  "nbformat": 4,
  "nbformat_minor": 0,
  "metadata": {
    "colab": {
      "name": "recommender system",
      "provenance": [],
      "authorship_tag": "ABX9TyMzRY/oyTFBH2EQHTkEu46s",
      "include_colab_link": true
    },
    "kernelspec": {
      "name": "python3",
      "display_name": "Python 3"
    },
    "language_info": {
      "name": "python"
    }
  },
  "cells": [
    {
      "cell_type": "markdown",
      "metadata": {
        "id": "view-in-github",
        "colab_type": "text"
      },
      "source": [
        "<a href=\"https://colab.research.google.com/github/12kritika/Portfolio/blob/main/recommender_system.ipynb\" target=\"_parent\"><img src=\"https://colab.research.google.com/assets/colab-badge.svg\" alt=\"Open In Colab\"/></a>"
      ]
    },
    {
      "cell_type": "code",
      "execution_count": null,
      "metadata": {
        "id": "d5vfgMFa0HFF"
      },
      "outputs": [],
      "source": [
        "import numpy as np\n",
        "import pandas as pd\n",
        "import difflib\n",
        "from sklearn.feature_extraction.text import TfidfVectorizer \n",
        "from sklearn.metrics.pairwise import cosine_similarity\n",
        "\n"
      ]
    },
    {
      "cell_type": "code",
      "source": [
        "#Data Collection and preprocessing\n",
        "\n",
        "movies_data= pd.read_csv(\"movies.csv\")"
      ],
      "metadata": {
        "id": "xpM9539QUTeQ"
      },
      "execution_count": null,
      "outputs": []
    },
    {
      "cell_type": "code",
      "source": [
        "movies_data.head()\n",
        "movies_data.shape"
      ],
      "metadata": {
        "id": "LgGuIlEcRtAq"
      },
      "execution_count": null,
      "outputs": []
    },
    {
      "cell_type": "code",
      "source": [
        "#Selecting relevant features\n",
        "df = movies_data[['genres','keywords','tagline','cast','director']].copy()\n",
        "df.tail()\n"
      ],
      "metadata": {
        "id": "O00RF8Y2ZA1j"
      },
      "execution_count": null,
      "outputs": []
    },
    {
      "cell_type": "code",
      "source": [
        "df.shape"
      ],
      "metadata": {
        "id": "WFe62P4JkatE"
      },
      "execution_count": null,
      "outputs": []
    },
    {
      "cell_type": "code",
      "source": [
        "df.isnull().sum()"
      ],
      "metadata": {
        "id": "M4wK66SgoVq_"
      },
      "execution_count": null,
      "outputs": []
    },
    {
      "cell_type": "code",
      "source": [
        "df.fillna('', inplace=True)"
      ],
      "metadata": {
        "id": "sns3sJffqIX3"
      },
      "execution_count": null,
      "outputs": []
    },
    {
      "cell_type": "code",
      "source": [
        "df.isnull().sum()"
      ],
      "metadata": {
        "id": "baSIR2qdpAE_"
      },
      "execution_count": null,
      "outputs": []
    },
    {
      "cell_type": "code",
      "source": [
        "df.tail()"
      ],
      "metadata": {
        "id": "pAUcpZEETBeY"
      },
      "execution_count": null,
      "outputs": []
    },
    {
      "cell_type": "code",
      "source": [
        "df_concat= df['genres']+' ' + df['cast'] + ' ' +df['director']+ ' '+ df['keywords']+ ' ' + df['tagline']\n",
        "print(df_concat)"
      ],
      "metadata": {
        "id": "53Km1SIhqPGz"
      },
      "execution_count": null,
      "outputs": []
    },
    {
      "cell_type": "code",
      "source": [
        "#convert text data to feature vector\n",
        "feature_vector= TfidfVectorizer().fit_transform(df_concat)\n"
      ],
      "metadata": {
        "id": "uy_9pCp3rbBR"
      },
      "execution_count": null,
      "outputs": []
    },
    {
      "cell_type": "code",
      "source": [
        "print(feature_vector)"
      ],
      "metadata": {
        "id": "m9VPWQUffZOe"
      },
      "execution_count": null,
      "outputs": []
    },
    {
      "cell_type": "code",
      "source": [
        "#cosine similarity\n",
        "similarity = cosine_similarity(feature_vector)"
      ],
      "metadata": {
        "id": "MmlBXwR-fb4D"
      },
      "execution_count": null,
      "outputs": []
    },
    {
      "cell_type": "code",
      "source": [
        "#getting movie input from user\n",
        "movie_name = input(\"Enter movie name\")\n"
      ],
      "metadata": {
        "id": "dx-zj3fcZGmE",
        "colab": {
          "base_uri": "https://localhost:8080/"
        },
        "outputId": "c70ef700-e6dc-4a0a-d4f2-8a9de28509ca"
      },
      "execution_count": null,
      "outputs": [
        {
          "name": "stdout",
          "output_type": "stream",
          "text": [
            "Enter movie nameAvatar\n"
          ]
        }
      ]
    },
    {
      "cell_type": "code",
      "source": [
        "title_name= movies_data['original_title'].values"
      ],
      "metadata": {
        "id": "GKGxSG9Q_qqG"
      },
      "execution_count": null,
      "outputs": []
    },
    {
      "cell_type": "code",
      "source": [
        "title_name"
      ],
      "metadata": {
        "colab": {
          "base_uri": "https://localhost:8080/"
        },
        "id": "UM9AzdIMADZ8",
        "outputId": "9d88a789-2ea5-4ce0-ea0e-0cc9ada51d7b"
      },
      "execution_count": null,
      "outputs": [
        {
          "output_type": "execute_result",
          "data": {
            "text/plain": [
              "array(['Avatar', \"Pirates of the Caribbean: At World's End\", 'Spectre',\n",
              "       ..., 'Signed, Sealed, Delivered', 'Shanghai Calling',\n",
              "       'My Date with Drew'], dtype=object)"
            ]
          },
          "metadata": {},
          "execution_count": 17
        }
      ]
    },
    {
      "cell_type": "code",
      "source": [
        "#Finding the index of movie with title (while searching for movie it should be linked with itle otherwise sorting could change the index)\n",
        "index = movies_data[movies_data['title']== movie_name]['index'].values[0]\n",
        "\n"
      ],
      "metadata": {
        "id": "ElwFwvQy_GIj"
      },
      "execution_count": null,
      "outputs": []
    },
    {
      "cell_type": "code",
      "source": [
        "similarity_score= list(enumerate(similarity[index]))"
      ],
      "metadata": {
        "id": "Q1DX3sgiZjdX"
      },
      "execution_count": null,
      "outputs": []
    },
    {
      "cell_type": "code",
      "source": [
        "print(similarity_score)"
      ],
      "metadata": {
        "id": "cAMY11dCoE4U"
      },
      "execution_count": null,
      "outputs": []
    },
    {
      "cell_type": "code",
      "source": [
        "# sorting the movies based on similarity score\n",
        "sorted_value= sorted(similarity_score, key =lambda x: x[1], reverse=True)\n",
        "print(sorted_value)"
      ],
      "metadata": {
        "id": "m9kDPS8uaf1f"
      },
      "execution_count": null,
      "outputs": []
    },
    {
      "cell_type": "code",
      "source": [
        "#print recommended movies\n",
        "print ('top recommended movies \\n')\n",
        "\n",
        "i=0\n",
        "for movie in sorted_value:\n",
        "  title_from_index= movies_data[movies_data['index']==movie[0]]['title'].values[0]\n",
        "  if i<6 and i>=1 :\n",
        "    print(i,title_from_index)\n",
        "  i+=1\n"
      ],
      "metadata": {
        "id": "Q18mNe_hbGrA"
      },
      "execution_count": null,
      "outputs": []
    },
    {
      "cell_type": "code",
      "source": [
        ""
      ],
      "metadata": {
        "id": "RiHloJWAozMQ"
      },
      "execution_count": null,
      "outputs": []
    }
  ]
}